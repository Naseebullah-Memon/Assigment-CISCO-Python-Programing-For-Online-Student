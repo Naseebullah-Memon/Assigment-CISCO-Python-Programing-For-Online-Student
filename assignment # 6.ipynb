{
 "cells": [
  {
   "cell_type": "code",
   "execution_count": 1,
   "metadata": {},
   "outputs": [
    {
     "name": "stdout",
     "output_type": "stream",
     "text": [
      "An object-oriented programming language (OOPL) is a high-level programming language based on the object-oriented model.\n",
      "To perform object-oriented programming, one needs an object-oriented programming language.\n",
      "There are four pillars of oops\n",
      "01- Abstraction\n",
      "02- Encapsulation\n",
      "03- Inheritance\n",
      "04- Polymorphism\n"
     ]
    }
   ],
   "source": [
    "\"\"\"\n",
    "Question 1:\n",
    "Define Object Oriented Programming Language?\n",
    "\"\"\"\n",
    "\n",
    "print(\"\"\"An object-oriented programming language (OOPL) is a high-level programming language based on the object-oriented model.\n",
    "To perform object-oriented programming, one needs an object-oriented programming language.\\nThere are four pillars of oops\n",
    "01- Abstraction\n",
    "02- Encapsulation\n",
    "03- Inheritance\n",
    "04- Polymorphism\"\"\")\n"
   ]
  },
  {
   "cell_type": "code",
   "execution_count": 2,
   "metadata": {},
   "outputs": [
    {
     "name": "stdout",
     "output_type": "stream",
     "text": [
      "Advatages of OOP\n",
      "\n",
      "01- Define real world objects in a class (blueprint of object)\n",
      "02- Reusable the class which defines an object to create instance of that class\n",
      "03- Reduce the complexity of real world object throgh Abstraction\n",
      "04- Maintain the security through Encapsulation\n",
      "05- Inherit the properties of objects to create new object through Inheritance\n",
      "06- Take an object in many forms using polymorphism\n",
      "\n"
     ]
    }
   ],
   "source": [
    "\"\"\"\n",
    "Question 2:\n",
    "List down the Benefits of OOP?\n",
    "\"\"\"\n",
    "print(\"\"\"Advatages of OOP\"\"\")\n",
    "print(\"\"\"\n",
    "01- Define real world objects in a class (blueprint of object)\n",
    "02- Reusable the class which defines an object to create instance of that class\n",
    "03- Reduce the complexity of real world object throgh Abstraction\n",
    "04- Maintain the security through Encapsulation\n",
    "05- Inherit the properties of objects to create new object through Inheritance\n",
    "06- Take an object in many forms using polymorphism\n",
    "\"\"\")"
   ]
  },
  {
   "cell_type": "code",
   "execution_count": 3,
   "metadata": {},
   "outputs": [
    {
     "name": "stdout",
     "output_type": "stream",
     "text": [
      "FUNCTION:\n",
      "   Function is a block of code which defines some calcultions on attributes or variables,\n",
      "   It performs that calculation when it is called.\n",
      "\n",
      "METHOD\n",
      "   Mehod is same as function but defines inside the class to show the behaviour of an object.\n"
     ]
    }
   ],
   "source": [
    "\"\"\"\n",
    "Question 3:\n",
    "Differentiate between function and method?\n",
    "\"\"\"\n",
    "\n",
    "print(\"FUNCTION:\")\n",
    "print(\"\"\"   Function is a block of code which defines some calcultions on attributes or variables,\n",
    "   It performs that calculation when it is called.\"\"\")\n",
    "print()\n",
    "print(\"METHOD\")\n",
    "print(\"   Mehod is same as function but defines inside the class to show the behaviour of an object.\")"
   ]
  },
  {
   "cell_type": "code",
   "execution_count": 4,
   "metadata": {},
   "outputs": [
    {
     "name": "stdout",
     "output_type": "stream",
     "text": [
      "CLASS:\n",
      "  Class is a blueprint of real world objects which contains attributes and methods.\n",
      "\n",
      "OBJECT:\n",
      "  Object is an instance of an class It takes memory when it is created.\n",
      "\n",
      "ATTRIBUTE:\n",
      "  There are two types \n",
      "01- Class Attributes \n",
      "02- Instance Attribute\n",
      " ==> Class Attributes are share by all instances of that class.\n",
      " ==> Instance Attributes are not shared but every object has its own copy of attributes.\n",
      "\n",
      "BEHAVIOUR:\n",
      "   Methods of a class defines the behaviour of the class.\n"
     ]
    }
   ],
   "source": [
    "\"\"\"\n",
    "Question 4:\n",
    "Define the following terms:\n",
    "1. Class\n",
    "2. Object\n",
    "3. Attribute\n",
    "4. Behavior\n",
    "\"\"\"\n",
    "\n",
    "print(\"CLASS:\")\n",
    "print(\"  Class is a blueprint of real world objects which contains attributes and methods.\")\n",
    "print()\n",
    "print(\"OBJECT:\")\n",
    "print(\"  Object is an instance of an class It takes memory when it is created.\")\n",
    "print()\n",
    "print(\"ATTRIBUTE:\")\n",
    "print(\"  There are two types \\n01- Class Attributes \\n02- Instance Attribute\")\n",
    "print(\" ==> Class Attributes are share by all instances of that class.\")\n",
    "print(\" ==> Instance Attributes are not shared but every object has its own copy of attributes.\")\n",
    "print()\n",
    "print(\"BEHAVIOUR:\")\n",
    "print(\"   Methods of a class defines the behaviour of the class.\")"
   ]
  },
  {
   "cell_type": "code",
   "execution_count": 5,
   "metadata": {},
   "outputs": [],
   "source": [
    "\"\"\"\n",
    "Question 5:\n",
    "Write a code in python in which create a class named it Car which\n",
    "have 5 attributes such like (model, color and name etc.) and 3\n",
    "methods. And create 5 object instance from that class.\n",
    "\"\"\"\n",
    "\n",
    "class Car:\n",
    "    def __init__(self,name,color,model,year,price):\n",
    "        self.name=name\n",
    "        self.color=color\n",
    "        self.model=model\n",
    "        self.year=year\n",
    "        self.price=price\n",
    "        \n",
    "    def description(self):\n",
    "        print(f\"Name: {self.name}\\nColor: {self.color}\\nModel: {self.model}\\nPrice: {self.price}\\nYear: {self.year}\")\n",
    "    def howItIs(self):\n",
    "        if self.year == 2019:\n",
    "            print(\"It is latest model\")\n",
    "        elif self.year <=2012:\n",
    "            print(\"It is old model\")\n",
    "        elif self.year <=2018:\n",
    "            print(\"It is not latest model\")\n",
    "    def estimatedPrice(self):\n",
    "        if self.year == 2019:\n",
    "            print(\"Its estimated price is equal to actual price\")\n",
    "        elif self.year <=2012:\n",
    "            print(\"Now it is estimated price is very low then actual\")\n",
    "        elif self.year <=2018:\n",
    "            print(\"It's price is less low as compare to actual price\")"
   ]
  },
  {
   "cell_type": "code",
   "execution_count": 6,
   "metadata": {},
   "outputs": [
    {
     "name": "stdout",
     "output_type": "stream",
     "text": [
      "\n",
      "Toyota Camry\n",
      "2018\n",
      "440000000\n",
      "\n",
      "Name: Honda\n",
      "Color: black\n",
      "Model: Honda Accord\n",
      "Price: 350000\n",
      "Year: 2018\n",
      "\n",
      "It is not latest model\n",
      "\n",
      "It's price is less low as compare to actual price\n"
     ]
    }
   ],
   "source": [
    "# creating objects of car\n",
    "\n",
    "car1=Car(\"Toyota\",\"black\",\"Toyota Camry\",2019,500000)\n",
    "car2=Car(\"Honda\",\"black\",\"Honda Accord\",2018,350000)\n",
    "car3=Car(\"Ferrari\",\"red\",\"Ferrari 400i\",2016,2000000)\n",
    "car4=Car(\"Ferrari\",\"red\",\"Ferrari 348\",2017,33000000)\n",
    "car5=Car(\"Lamborghini\",\"black\",\"Lamborghini Huracan LP580-2\",2016,440000000)\n",
    "#Attributes\n",
    "print()\n",
    "print(car1.model)\n",
    "print(car2.year)\n",
    "print(car5.price)\n",
    "\n",
    "# calling methods\n",
    "print()\n",
    "car2.description()\n",
    "print()\n",
    "car3.howItIs()\n",
    "print()\n",
    "car4.estimatedPrice()\n"
   ]
  },
  {
   "cell_type": "code",
   "execution_count": null,
   "metadata": {},
   "outputs": [],
   "source": []
  }
 ],
 "metadata": {
  "kernelspec": {
   "display_name": "Python 3",
   "language": "python",
   "name": "python3"
  },
  "language_info": {
   "codemirror_mode": {
    "name": "ipython",
    "version": 3
   },
   "file_extension": ".py",
   "mimetype": "text/x-python",
   "name": "python",
   "nbconvert_exporter": "python",
   "pygments_lexer": "ipython3",
   "version": "3.7.1"
  }
 },
 "nbformat": 4,
 "nbformat_minor": 2
}
