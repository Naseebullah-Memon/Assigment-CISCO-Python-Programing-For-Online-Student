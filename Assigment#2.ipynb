{
 "cells": [
  {
   "cell_type": "markdown",
   "metadata": {},
   "source": [
    "# 1 marks sheet using grades"
   ]
  },
  {
   "cell_type": "code",
   "execution_count": 1,
   "metadata": {},
   "outputs": [
    {
     "name": "stdout",
     "output_type": "stream",
     "text": [
      "\t\t\t\t\tmark-sheet\t\t\t\t\t\t\t\t\t\n",
      "Enter english marks: 80\n",
      "Ennter maths marks: 82\n",
      "Enter physics marks: 83\n",
      "Enter islamiat marks: 88\n",
      "Enter chemistry marks: 79\n",
      "\n",
      "your percentage is \n",
      " 82.39999999999999\n",
      "congrats A+ grade\n"
     ]
    }
   ],
   "source": [
    "print(\"\\t\\t\\t\\t\\tmark-sheet\\t\\t\\t\\t\\t\\t\\t\\t\\t\")\n",
    "e=int (input(\"Enter english marks: \"))\n",
    "m=int(input(\"Ennter maths marks: \"))\n",
    "p=int(input(\"Enter physics marks: \"))\n",
    "i=int(input(\"Enter islamiat marks: \"))\n",
    "c=int(input(\"Enter chemistry marks: \"))\n",
    "obt=e+m+p+i+c;\n",
    "total=500;\n",
    "per=obt/total*100;\n",
    "print(\"\\nyour percentage is \\n\",per)\n",
    "if(per>=80):\n",
    "    print(\"congrats A+ grade\")\n",
    "elif(per>=70):\n",
    "    print(\"A grade\")\n",
    "elif(per>=60):\n",
    "    print(\"B grade\")\n",
    "elif(per>=50):\n",
    "    print(\"C grade\")\n",
    "else:\n",
    "    print(\"Fail\")\n"
   ]
  },
  {
   "cell_type": "markdown",
   "metadata": {},
   "source": [
    "# 2 to identify the number is even or odd:"
   ]
  },
  {
   "cell_type": "code",
   "execution_count": 2,
   "metadata": {
    "scrolled": true
   },
   "outputs": [
    {
     "name": "stdout",
     "output_type": "stream",
     "text": [
      "Enter any number: 9\n",
      "number is odd\n"
     ]
    }
   ],
   "source": [
    "num=int(input(\"Enter any number: \"))\n",
    "if(num%2==0):\n",
    "    print(\"number is even\")\n",
    "else:\n",
    "    print(\"number is odd\")"
   ]
  },
  {
   "cell_type": "markdown",
   "metadata": {},
   "source": [
    "# 3 lenght of list"
   ]
  },
  {
   "cell_type": "code",
   "execution_count": 3,
   "metadata": {},
   "outputs": [
    {
     "name": "stdout",
     "output_type": "stream",
     "text": [
      "lenght of list is: \n",
      "5\n"
     ]
    }
   ],
   "source": [
    "list=[23,56,67,78,89]\n",
    "print(\"lenght of list is: \")\n",
    "print(len(list))\n"
   ]
  },
  {
   "cell_type": "markdown",
   "metadata": {},
   "source": [
    "# 4 to find hightest number in the list:"
   ]
  },
  {
   "cell_type": "code",
   "execution_count": 4,
   "metadata": {},
   "outputs": [
    {
     "name": "stdout",
     "output_type": "stream",
     "text": [
      "Maximum number in the list is: \n",
      "105\n"
     ]
    }
   ],
   "source": [
    "list=[89,67,65,45,105]\n",
    "print(\"Maximum number in the list is: \")\n",
    "print(max(list))"
   ]
  },
  {
   "cell_type": "markdown",
   "metadata": {},
   "source": [
    "# 5 write a program to sum all numeric item in the list:"
   ]
  },
  {
   "cell_type": "code",
   "execution_count": 5,
   "metadata": {},
   "outputs": [
    {
     "name": "stdout",
     "output_type": "stream",
     "text": [
      "sum of list is: \n",
      "371\n"
     ]
    }
   ],
   "source": [
    "list=[89,67,65,45,105]\n",
    "print(\"sum of list is: \")\n",
    "print(sum(list))"
   ]
  },
  {
   "cell_type": "markdown",
   "metadata": {},
   "source": [
    "# 6 print out element in the list that is less than 5:"
   ]
  },
  {
   "cell_type": "code",
   "execution_count": 6,
   "metadata": {},
   "outputs": [
    {
     "name": "stdout",
     "output_type": "stream",
     "text": [
      "[1, 1, 2, 3, 5, 8, 13, 21, 34, 55, 89]\n",
      "\n",
      "element that is less than 5 in the list: \n",
      "\n",
      "[1, 1, 2, 3]\n"
     ]
    }
   ],
   "source": [
    "list=[1,1,2,3,5,8,13,21,34,55,89]\n",
    "print(list)\n",
    "print(\"\\nelement that is less than 5 in the list: \\n\")\n",
    "print(list[0:4])"
   ]
  },
  {
   "cell_type": "code",
   "execution_count": null,
   "metadata": {
    "collapsed": true
   },
   "outputs": [],
   "source": []
  }
 ],
 "metadata": {
  "kernelspec": {
   "display_name": "Python 3",
   "language": "python",
   "name": "python3"
  },
  "language_info": {
   "codemirror_mode": {
    "name": "ipython",
    "version": 3
   },
   "file_extension": ".py",
   "mimetype": "text/x-python",
   "name": "python",
   "nbconvert_exporter": "python",
   "pygments_lexer": "ipython3",
   "version": "3.7.1"
  }
 },
 "nbformat": 4,
 "nbformat_minor": 2
}
