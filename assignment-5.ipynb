{
 "cells": [
  {
   "cell_type": "markdown",
   "metadata": {},
   "source": [
    "# Question:1\n",
    "Write a Python function to calculate the factorial of a number (a non-negative\n",
    "integer). The function accepts the number as an argument."
   ]
  },
  {
   "cell_type": "code",
   "execution_count": 3,
   "metadata": {},
   "outputs": [
    {
     "name": "stdout",
     "output_type": "stream",
     "text": [
      "facotrial of 3 is 6\n",
      "factorial of 5 is 120\n"
     ]
    }
   ],
   "source": [
    "def factorial(arg):\n",
    "    f=arg\n",
    "    n=1\n",
    "    for i in range(1,f):\n",
    "        n=n*(i+1)\n",
    "    return n\n",
    "\n",
    "print(\"facotrial of 3 is\", factorial(3) )\n",
    "print(\"factorial of 5 is\", factorial(5) )"
   ]
  },
  {
   "cell_type": "markdown",
   "metadata": {},
   "source": [
    "# Question:2\n",
    "Write a Python function that accepts a string and calculate the number of upper\n",
    "case letters and lower case letters."
   ]
  },
  {
   "cell_type": "code",
   "execution_count": 4,
   "metadata": {},
   "outputs": [
    {
     "name": "stdout",
     "output_type": "stream",
     "text": [
      "The \" abdul rehman \" have 0 capital  and 11 small letters\n",
      "\n",
      "The \" This Is Fifth Assignment\" have 4 capital  and 17 small letters\n"
     ]
    }
   ],
   "source": [
    "def calculateUpperLower(string):    \n",
    "    small=0\n",
    "    capital=0\n",
    "    for i in string:\n",
    "        if ord(i) >= 65 and ord(i) <=90:\n",
    "            capital+=1\n",
    "        elif ord(i) >=97 and ord(i) <=122:\n",
    "            small+=1\n",
    "        else:\n",
    "            continue\n",
    "    print(f\"The \\\"{string}\\\" have {capital} capital  and {small} small letters\")\n",
    "    \n",
    "calculateUpperLower(\" abdul rehman \")\n",
    "print()\n",
    "calculateUpperLower(\" This Is Fifth Assignment\")"
   ]
  },
  {
   "cell_type": "markdown",
   "metadata": {},
   "source": [
    "# Question:3\n",
    "Write a Python function to print the even numbers from a given list."
   ]
  },
  {
   "cell_type": "code",
   "execution_count": 5,
   "metadata": {},
   "outputs": [
    {
     "name": "stdout",
     "output_type": "stream",
     "text": [
      "2\tis even number\n",
      "4\tis even number\n",
      "344\tis even number\n",
      "432\tis even number\n"
     ]
    }
   ],
   "source": [
    "def checkEvenOdd(l):\n",
    "    for n in l:\n",
    "        if n%2==0:\n",
    "            print(f\"{n}\\tis even number\")\n",
    "\n",
    "checkEvenOdd([2,3,63,21,3,4,344,432])"
   ]
  },
  {
   "cell_type": "markdown",
   "metadata": {},
   "source": [
    "# Question:4\n",
    "Write a Python function that checks whether a passed string is palindrome or not.\n",
    "Note: A palindrome is a word, phrase, or sequence that reads the same\n",
    "backward as forward, e.g., madam"
   ]
  },
  {
   "cell_type": "code",
   "execution_count": 7,
   "metadata": {},
   "outputs": [
    {
     "name": "stdout",
     "output_type": "stream",
     "text": [
      "madam is palindrome\n"
     ]
    }
   ],
   "source": [
    "def checkPalindrome(string):\n",
    "    if string == string[::-1]:\n",
    "        print(f\"{string} is palindrome\")\n",
    "    else:\n",
    "        print(f\"{string} is not palindrome\")\n",
    "        \n",
    "checkPalindrome(\"madam\")"
   ]
  },
  {
   "cell_type": "markdown",
   "metadata": {},
   "source": [
    "# Question:5\n",
    "Write a Python function that takes a number as a parameter and check the\n",
    "number is prime or not."
   ]
  },
  {
   "cell_type": "code",
   "execution_count": 8,
   "metadata": {},
   "outputs": [
    {
     "name": "stdout",
     "output_type": "stream",
     "text": [
      "4 is not a prime number\n",
      "49 is a prime number\n"
     ]
    }
   ],
   "source": [
    "def checkPrime(n):    \n",
    "    if n<=1:\n",
    "        print(\"prime number starts from 2\")\n",
    "    for  i in range(2,5):\n",
    "        if n %2 ==0:\n",
    "            print(f\"{n} is not a prime number\")\n",
    "            break\n",
    "    else:\n",
    "        print(f\"{n} is a prime number\")\n",
    "\n",
    "checkPrime(4)\n",
    "checkPrime(49)"
   ]
  },
  {
   "cell_type": "markdown",
   "metadata": {
    "collapsed": true
   },
   "source": [
    "# Question: 6\n",
    "Suppose a customer is shopping in a market and you need to print all the items\n",
    "which user bought from market.\n",
    "Write a function which accepts the multiple arguments of user shopping list and\n",
    "print all the items which user bought from market.\n",
    "(Hint: Arbitrary Argument concept can make this task ease)"
   ]
  },
  {
   "cell_type": "code",
   "execution_count": 9,
   "metadata": {},
   "outputs": [
    {
     "name": "stdout",
     "output_type": "stream",
     "text": [
      "you bought  T-shirt\n",
      "you bought  2-Jeans\n",
      "you bought  shoes\n",
      "you bought  fruits\n",
      "you bought  mobile\n"
     ]
    }
   ],
   "source": [
    "def shoppingList(*arg):\n",
    "    for i in arg:\n",
    "        print(\"you bought \",i)\n",
    "        \n",
    "shoppingList(\"T-shirt\",\"2-Jeans\",\"shoes\",\"fruits\")\n",
    "shoppingList(\"mobile\")"
   ]
  }
 ],
 "metadata": {
  "kernelspec": {
   "display_name": "Python 3",
   "language": "python",
   "name": "python3"
  },
  "language_info": {
   "codemirror_mode": {
    "name": "ipython",
    "version": 3
   },
   "file_extension": ".py",
   "mimetype": "text/x-python",
   "name": "python",
   "nbconvert_exporter": "python",
   "pygments_lexer": "ipython3",
   "version": "3.7.1"
  }
 },
 "nbformat": 4,
 "nbformat_minor": 2
}
